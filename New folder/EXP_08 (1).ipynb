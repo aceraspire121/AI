{
 "cells": [
  {
   "cell_type": "code",
   "execution_count": 4,
   "id": "dd6cb580",
   "metadata": {},
   "outputs": [],
   "source": [
    "def magic_square(matrix):\n",
    "    size=len(matrix[0])\n",
    "    sum_list=[]\n",
    "    for col in range(size): #Vertical sum\n",
    "        sum_list.append(sum(row[col] for row in matrix))\n",
    "    sum_list.extend([sum(lines) for lines in matrix])#Horizontal sum\n",
    "    result1=0\n",
    "    for i in range(0,size):\n",
    "        result1+=matrix[i][i]\n",
    "    sum_list.append(result1)\n",
    "    result2=0\n",
    "    for i in range(size-1,-1,-1):\n",
    "        result2+=matrix[i][i]\n",
    "    sum_list.append(result2)\n",
    "    if len(set(sum_list))>1:\n",
    "        return False\n",
    "    return True\n"
   ]
  },
  {
   "cell_type": "code",
   "execution_count": 2,
   "id": "54c666f6",
   "metadata": {},
   "outputs": [
    {
     "data": {
      "text/plain": [
       "False"
      ]
     },
     "execution_count": 2,
     "metadata": {},
     "output_type": "execute_result"
    }
   ],
   "source": [
    "magic_square([[1,2,3],[4,5,6],[7,8,9]])"
   ]
  },
  {
   "cell_type": "code",
   "execution_count": 3,
   "id": "b55c30e7",
   "metadata": {},
   "outputs": [
    {
     "data": {
      "text/plain": [
       "True"
      ]
     },
     "execution_count": 3,
     "metadata": {},
     "output_type": "execute_result"
    }
   ],
   "source": [
    "magic_square([[2,7,6],[9,5,1],[4,3,8]])"
   ]
  },
  {
   "cell_type": "code",
   "execution_count": null,
   "id": "45c6eb52",
   "metadata": {},
   "outputs": [],
   "source": []
  }
 ],
 "metadata": {
  "kernelspec": {
   "display_name": "Python 3 (ipykernel)",
   "language": "python",
   "name": "python3"
  },
  "language_info": {
   "codemirror_mode": {
    "name": "ipython",
    "version": 3
   },
   "file_extension": ".py",
   "mimetype": "text/x-python",
   "name": "python",
   "nbconvert_exporter": "python",
   "pygments_lexer": "ipython3",
   "version": "3.9.13"
  }
 },
 "nbformat": 4,
 "nbformat_minor": 5
}
