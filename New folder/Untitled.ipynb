{
 "cells": [
  {
   "cell_type": "code",
   "execution_count": 3,
   "id": "ab01b4d0",
   "metadata": {},
   "outputs": [],
   "source": [
    "import csv \n",
    "import statistics\n",
    "import numpy"
   ]
  },
  {
   "cell_type": "code",
   "execution_count": 17,
   "id": "10b25220",
   "metadata": {},
   "outputs": [],
   "source": [
    "def mean_removeal (inp_file,out_file):\n",
    "    with open(inp_file,\"r\")as file:\n",
    "        reader = csv.reader(file)\n",
    "        data = [float(row[0]) for row in reader]\n",
    "        current_min=min(data)\n",
    "        current_max=max(data)\n",
    "        scaled_data=[(x-current_min)/(current_max-current_min) for x in data]\n",
    "        with open(otp_file,'w') as file:\n",
    "            writer=csv.writer(file)\n",
    "            for val in scaled_data:\n",
    "                \n",
    "                writer.writerow([val])"
   ]
  },
  {
   "cell_type": "code",
   "execution_count": null,
   "id": "27f35dca",
   "metadata": {},
   "outputs": [],
   "source": []
  }
 ],
 "metadata": {
  "kernelspec": {
   "display_name": "Python 3 (ipykernel)",
   "language": "python",
   "name": "python3"
  },
  "language_info": {
   "codemirror_mode": {
    "name": "ipython",
    "version": 3
   },
   "file_extension": ".py",
   "mimetype": "text/x-python",
   "name": "python",
   "nbconvert_exporter": "python",
   "pygments_lexer": "ipython3",
   "version": "3.9.13"
  }
 },
 "nbformat": 4,
 "nbformat_minor": 5
}
